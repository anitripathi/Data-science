{
 "cells": [
  {
   "cell_type": "code",
   "execution_count": 4,
   "id": "c11ccc1f-e955-473e-a4a5-66c47124601b",
   "metadata": {},
   "outputs": [
    {
     "name": "stdout",
     "output_type": "stream",
     "text": [
      "  antecedents consequents  support  confidence    lift\n",
      "0      (Milk)     (Bread)      0.6        0.75  0.9375\n",
      "1     (Bread)      (Milk)      0.6        0.75  0.9375\n",
      "2     (Bread)    (Butter)      0.6        0.75  0.9375\n",
      "3    (Butter)     (Bread)      0.6        0.75  0.9375\n",
      "4      (Milk)    (Butter)      0.6        0.75  0.9375\n",
      "5    (Butter)      (Milk)      0.6        0.75  0.9375\n"
     ]
    }
   ],
   "source": [
    "# APRIORI ALGORITH \n",
    "\n",
    "from mlxtend.frequent_patterns import apriori, association_rules\n",
    "import pandas as pd\n",
    "\n",
    "# Sample dataset\n",
    "dataset = [\n",
    "    ['Milk', 'Bread', 'Butter'],\n",
    "    ['Milk', 'Bread'],\n",
    "    ['Milk', 'Butter'],\n",
    "    ['Bread', 'Butter'],\n",
    "    ['Milk', 'Bread', 'Butter']\n",
    "]\n",
    "\n",
    "# Convert dataset to DataFrame\n",
    "df = pd.DataFrame([{item: (item in transaction) for item in set(sum(dataset, []))} for transaction in dataset])\n",
    "\n",
    "# Apply Apriori Algorithm\n",
    "frequent_itemsets = apriori(df, min_support=0.6, use_colnames=True)\n",
    "rules = association_rules(frequent_itemsets, metric=\"confidence\", min_threshold=0.7)\n",
    "\n",
    "print(rules[['antecedents', 'consequents', 'support', 'confidence', 'lift']])\n"
   ]
  },
  {
   "cell_type": "code",
   "execution_count": null,
   "id": "488d8b27-3b58-4e14-94e0-8327f7b92b7c",
   "metadata": {},
   "outputs": [],
   "source": []
  }
 ],
 "metadata": {
  "kernelspec": {
   "display_name": "Python 3 (ipykernel)",
   "language": "python",
   "name": "python3"
  },
  "language_info": {
   "codemirror_mode": {
    "name": "ipython",
    "version": 3
   },
   "file_extension": ".py",
   "mimetype": "text/x-python",
   "name": "python",
   "nbconvert_exporter": "python",
   "pygments_lexer": "ipython3",
   "version": "3.12.0"
  }
 },
 "nbformat": 4,
 "nbformat_minor": 5
}
