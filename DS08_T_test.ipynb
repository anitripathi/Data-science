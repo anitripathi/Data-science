{
 "cells": [
  {
   "cell_type": "code",
   "execution_count": 1,
   "id": "6ea19fda-8a4f-4d44-a85f-c92dcb209c94",
   "metadata": {},
   "outputs": [
    {
     "name": "stdout",
     "output_type": "stream",
     "text": [
      "T-statistic: 2.6112\n",
      "P-value: 0.0282\n",
      "Reject the null hypothesis: The diet plan has a significant effect on weight loss.\n"
     ]
    }
   ],
   "source": [
    "import numpy as np\n",
    "import scipy.stats as stats\n",
    "\n",
    "# Example: A company wants to check if a new diet plan helps in weight reduction.\n",
    "# They measure the weight loss of 10 individuals after following the diet for a month.\n",
    "\n",
    "# Weight loss data (in kg) for 10 individuals\n",
    "weight_loss = [2.1, 2.5, 1.8, 2.3, 2.0, 2.7, 1.9, 2.4, 2.6, 2.2]\n",
    "\n",
    "# Population mean (assuming expected mean weight loss is 2 kg)\n",
    "pop_mean = 2.0\n",
    "\n",
    "# Perform one-sample t-test\n",
    "t_stat, p_value = stats.ttest_1samp(weight_loss, pop_mean)\n",
    "\n",
    "# Display results\n",
    "print(f\"T-statistic: {t_stat:.4f}\")\n",
    "print(f\"P-value: {p_value:.4f}\")\n",
    "\n",
    "# Interpretation\n",
    "alpha = 0.05  # Significance level\n",
    "if p_value < alpha:\n",
    "    print(\"Reject the null hypothesis: The diet plan has a significant effect on weight loss.\")\n",
    "else:\n",
    "    print(\"Fail to reject the null hypothesis: No significant effect observed.\")\n"
   ]
  },
  {
   "cell_type": "code",
   "execution_count": null,
   "id": "cf215a9c-4c28-49c2-989a-c490c8b40063",
   "metadata": {},
   "outputs": [],
   "source": []
  }
 ],
 "metadata": {
  "kernelspec": {
   "display_name": "Python 3 (ipykernel)",
   "language": "python",
   "name": "python3"
  },
  "language_info": {
   "codemirror_mode": {
    "name": "ipython",
    "version": 3
   },
   "file_extension": ".py",
   "mimetype": "text/x-python",
   "name": "python",
   "nbconvert_exporter": "python",
   "pygments_lexer": "ipython3",
   "version": "3.12.0"
  }
 },
 "nbformat": 4,
 "nbformat_minor": 5
}
