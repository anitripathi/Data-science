{
 "cells": [
  {
   "cell_type": "code",
   "execution_count": 2,
   "id": "e1971cab-0567-4099-b536-49b156f6a436",
   "metadata": {},
   "outputs": [],
   "source": [
    "#Z-TEST Question\n",
    "\n",
    "import scipy.stats as st\n",
    "import numpy as np\n",
    "\n",
    "old_design_data = np.array([45.2,42.8,38.9,43.5,41.0,44.6,40.5])\n",
    "new_design_data = np.array([48.5,49.1,50.2,47.8,48.7,49.9,48.0])\n",
    "\n",
    "pop_std = 2.5\n",
    "n_sample = len(new_design_data)\n",
    "ap = 0.05\n",
    "\n",
    "z_table = st.norm.ppf(1-ap)    #z-test value from table\n",
    "z_table\n",
    "\n",
    "mean_new = np.mean(new_design_data)\n",
    "mean_old = np.mean(old_design_data)\n",
    "\n"
   ]
  },
  {
   "cell_type": "code",
   "execution_count": 3,
   "id": "5902873f-46ba-4d37-b38a-db5df82a96ca",
   "metadata": {},
   "outputs": [
    {
     "data": {
      "text/plain": [
       "6.909190566608678"
      ]
     },
     "execution_count": 3,
     "metadata": {},
     "output_type": "execute_result"
    }
   ],
   "source": [
    "z_cal = (mean_new - mean_old)/(pop_std/np.sqrt(n_sample))\n",
    "z_cal"
   ]
  },
  {
   "cell_type": "code",
   "execution_count": 5,
   "id": "8346bbcf-e112-48d8-b1cc-910c3c6c774f",
   "metadata": {},
   "outputs": [
    {
     "name": "stdout",
     "output_type": "stream",
     "text": [
      "Ha is right\n"
     ]
    }
   ],
   "source": [
    "if z_cal > z_table:\n",
    "    print (\"Ha is right\")\n",
    "else:\n",
    "    print(\"Ho is right\")"
   ]
  },
  {
   "cell_type": "code",
   "execution_count": null,
   "id": "04d87402-6e9e-42a0-a458-ed930af055b9",
   "metadata": {},
   "outputs": [],
   "source": []
  },
  {
   "cell_type": "code",
   "execution_count": null,
   "id": "601e82cd-dc2e-4062-b405-872c14ff9068",
   "metadata": {},
   "outputs": [],
   "source": []
  }
 ],
 "metadata": {
  "kernelspec": {
   "display_name": "Python 3 (ipykernel)",
   "language": "python",
   "name": "python3"
  },
  "language_info": {
   "codemirror_mode": {
    "name": "ipython",
    "version": 3
   },
   "file_extension": ".py",
   "mimetype": "text/x-python",
   "name": "python",
   "nbconvert_exporter": "python",
   "pygments_lexer": "ipython3",
   "version": "3.12.0"
  }
 },
 "nbformat": 4,
 "nbformat_minor": 5
}
