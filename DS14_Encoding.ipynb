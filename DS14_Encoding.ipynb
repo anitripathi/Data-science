{
 "cells": [
  {
   "cell_type": "code",
   "execution_count": 22,
   "id": "56f7b4ed-942c-4968-a7f7-7ca9e7ae031c",
   "metadata": {},
   "outputs": [
    {
     "data": {
      "text/html": [
       "<div>\n",
       "<style scoped>\n",
       "    .dataframe tbody tr th:only-of-type {\n",
       "        vertical-align: middle;\n",
       "    }\n",
       "\n",
       "    .dataframe tbody tr th {\n",
       "        vertical-align: top;\n",
       "    }\n",
       "\n",
       "    .dataframe thead th {\n",
       "        text-align: right;\n",
       "    }\n",
       "</style>\n",
       "<table border=\"1\" class=\"dataframe\">\n",
       "  <thead>\n",
       "    <tr style=\"text-align: right;\">\n",
       "      <th></th>\n",
       "      <th>Unnamed: 0</th>\n",
       "      <th>Price</th>\n",
       "      <th>Age</th>\n",
       "      <th>KM</th>\n",
       "      <th>FuelType</th>\n",
       "      <th>HP</th>\n",
       "      <th>MetColor</th>\n",
       "      <th>Automatic</th>\n",
       "      <th>CC</th>\n",
       "      <th>Doors</th>\n",
       "      <th>Weight</th>\n",
       "    </tr>\n",
       "  </thead>\n",
       "  <tbody>\n",
       "    <tr>\n",
       "      <th>0</th>\n",
       "      <td>0</td>\n",
       "      <td>13500</td>\n",
       "      <td>23.0</td>\n",
       "      <td>46986</td>\n",
       "      <td>Diesel</td>\n",
       "      <td>90</td>\n",
       "      <td>1.0</td>\n",
       "      <td>0</td>\n",
       "      <td>2000</td>\n",
       "      <td>three</td>\n",
       "      <td>1165</td>\n",
       "    </tr>\n",
       "    <tr>\n",
       "      <th>1</th>\n",
       "      <td>1</td>\n",
       "      <td>13750</td>\n",
       "      <td>23.0</td>\n",
       "      <td>72937</td>\n",
       "      <td>Diesel</td>\n",
       "      <td>90</td>\n",
       "      <td>1.0</td>\n",
       "      <td>0</td>\n",
       "      <td>2000</td>\n",
       "      <td>3</td>\n",
       "      <td>1165</td>\n",
       "    </tr>\n",
       "    <tr>\n",
       "      <th>2</th>\n",
       "      <td>2</td>\n",
       "      <td>13950</td>\n",
       "      <td>24.0</td>\n",
       "      <td>41711</td>\n",
       "      <td>Diesel</td>\n",
       "      <td>90</td>\n",
       "      <td>NaN</td>\n",
       "      <td>0</td>\n",
       "      <td>2000</td>\n",
       "      <td>3</td>\n",
       "      <td>1165</td>\n",
       "    </tr>\n",
       "    <tr>\n",
       "      <th>3</th>\n",
       "      <td>3</td>\n",
       "      <td>14950</td>\n",
       "      <td>26.0</td>\n",
       "      <td>48000</td>\n",
       "      <td>Diesel</td>\n",
       "      <td>90</td>\n",
       "      <td>0.0</td>\n",
       "      <td>0</td>\n",
       "      <td>2000</td>\n",
       "      <td>3</td>\n",
       "      <td>1165</td>\n",
       "    </tr>\n",
       "    <tr>\n",
       "      <th>4</th>\n",
       "      <td>4</td>\n",
       "      <td>13750</td>\n",
       "      <td>30.0</td>\n",
       "      <td>38500</td>\n",
       "      <td>Diesel</td>\n",
       "      <td>90</td>\n",
       "      <td>0.0</td>\n",
       "      <td>0</td>\n",
       "      <td>2000</td>\n",
       "      <td>3</td>\n",
       "      <td>1170</td>\n",
       "    </tr>\n",
       "  </tbody>\n",
       "</table>\n",
       "</div>"
      ],
      "text/plain": [
       "   Unnamed: 0  Price   Age     KM FuelType  HP  MetColor  Automatic    CC  \\\n",
       "0           0  13500  23.0  46986   Diesel  90       1.0          0  2000   \n",
       "1           1  13750  23.0  72937   Diesel  90       1.0          0  2000   \n",
       "2           2  13950  24.0  41711   Diesel  90       NaN          0  2000   \n",
       "3           3  14950  26.0  48000   Diesel  90       0.0          0  2000   \n",
       "4           4  13750  30.0  38500   Diesel  90       0.0          0  2000   \n",
       "\n",
       "   Doors  Weight  \n",
       "0  three    1165  \n",
       "1      3    1165  \n",
       "2      3    1165  \n",
       "3      3    1165  \n",
       "4      3    1170  "
      ]
     },
     "execution_count": 22,
     "metadata": {},
     "output_type": "execute_result"
    }
   ],
   "source": [
    "import pandas as pd\n",
    "import numpy as np\n",
    "import matplotlib.pyplot as plt\n",
    "\n",
    "dataset = pd.read_csv(\"Toyota.csv\")\n",
    "dataset.head(5)"
   ]
  },
  {
   "cell_type": "code",
   "execution_count": 23,
   "id": "818cc424-012a-4094-ab13-9c9d2dfbe63e",
   "metadata": {},
   "outputs": [
    {
     "data": {
      "text/plain": [
       "Unnamed: 0      0\n",
       "Price           0\n",
       "Age           100\n",
       "KM              0\n",
       "FuelType      100\n",
       "HP              0\n",
       "MetColor      150\n",
       "Automatic       0\n",
       "CC              0\n",
       "Doors           0\n",
       "Weight          0\n",
       "dtype: int64"
      ]
     },
     "execution_count": 23,
     "metadata": {},
     "output_type": "execute_result"
    }
   ],
   "source": [
    "dataset.isnull().sum()"
   ]
  },
  {
   "cell_type": "code",
   "execution_count": 35,
   "id": "b95dfb2a-aea9-4de3-b888-9c40a1629d03",
   "metadata": {},
   "outputs": [
    {
     "name": "stdout",
     "output_type": "stream",
     "text": [
      "   FuelType_CNG  FuelType_Diesel  FuelType_Petrol  Doors_2  Doors_3  Doors_4  \\\n",
      "0           0.0              1.0              0.0      0.0      0.0      0.0   \n",
      "1           0.0              1.0              0.0      0.0      1.0      0.0   \n",
      "2           0.0              1.0              0.0      0.0      1.0      0.0   \n",
      "3           0.0              1.0              0.0      0.0      1.0      0.0   \n",
      "4           0.0              1.0              0.0      0.0      1.0      0.0   \n",
      "\n",
      "   Doors_5  Doors_five  Doors_four  Doors_three  \n",
      "0      0.0         0.0         0.0          1.0  \n",
      "1      0.0         0.0         0.0          0.0  \n",
      "2      0.0         0.0         0.0          0.0  \n",
      "3      0.0         0.0         0.0          0.0  \n",
      "4      0.0         0.0         0.0          0.0  \n"
     ]
    }
   ],
   "source": [
    "# ONE HOT ENCODING\n",
    "\n",
    "dataset[\"Age\"].fillna(dataset[\"Age\"].mode()[0], inplace=True)\n",
    "dataset[\"FuelType\"].fillna(dataset[\"FuelType\"].mode()[0], inplace=True)\n",
    "dataset[\"Doors\"].fillna(dataset[\"Doors\"].mode()[0], inplace=True)\n",
    "\n",
    "\n",
    "# METHOD 1 => pandas.get_dummies()\n",
    "\n",
    "en_data = dataset[[\"FuelType\",\"Doors\"]]  \n",
    "df_dummies = pd.get_dummies(en_data,dtype = float)   # by default it give answer in true ad false\n",
    "print(df_dummies.head())\n",
    "\n",
    "\n"
   ]
  },
  {
   "cell_type": "code",
   "execution_count": null,
   "id": "04e348cf-4fd3-4340-8e5f-66c87bb2f0dd",
   "metadata": {},
   "outputs": [],
   "source": []
  },
  {
   "cell_type": "code",
   "execution_count": 36,
   "id": "231a4005-811c-42d3-a2e5-76d1a1f612e8",
   "metadata": {},
   "outputs": [
    {
     "name": "stdout",
     "output_type": "stream",
     "text": [
      "   FuelType_CNG  FuelType_Diesel  FuelType_Petrol  Doors_2  Doors_3  Doors_4  \\\n",
      "0           0.0              1.0              0.0      0.0      0.0      0.0   \n",
      "1           0.0              1.0              0.0      0.0      1.0      0.0   \n",
      "2           0.0              1.0              0.0      0.0      1.0      0.0   \n",
      "3           0.0              1.0              0.0      0.0      1.0      0.0   \n",
      "4           0.0              1.0              0.0      0.0      1.0      0.0   \n",
      "\n",
      "   Doors_5  Doors_five  Doors_four  Doors_three  \n",
      "0      0.0         0.0         0.0          1.0  \n",
      "1      0.0         0.0         0.0          0.0  \n",
      "2      0.0         0.0         0.0          0.0  \n",
      "3      0.0         0.0         0.0          0.0  \n",
      "4      0.0         0.0         0.0          0.0  \n"
     ]
    }
   ],
   "source": [
    "# METHOD 2 =>  Using OneHotEncoder from scikit-learn\n",
    "\n",
    "from sklearn.preprocessing import OneHotEncoder\n",
    "\n",
    "ohe = OneHotEncoder(sparse_output=False)  # Ensure output is an array, not a sparse matrix\n",
    "ar = ohe.fit_transform(en_data)\n",
    "\n",
    "# Convert to DataFrame with correct column names\n",
    "df_ohe = pd.DataFrame(ar, columns=ohe.get_feature_names_out())\n",
    "\n",
    "# Display result\n",
    "print(df_ohe.head())"
   ]
  },
  {
   "cell_type": "code",
   "execution_count": null,
   "id": "f685b679-3bde-46ae-b164-52fb87864e55",
   "metadata": {},
   "outputs": [],
   "source": []
  },
  {
   "cell_type": "code",
   "execution_count": null,
   "id": "506d6032-17d8-409d-8ea1-05e709ad8d3d",
   "metadata": {},
   "outputs": [],
   "source": []
  }
 ],
 "metadata": {
  "kernelspec": {
   "display_name": "Python 3 (ipykernel)",
   "language": "python",
   "name": "python3"
  },
  "language_info": {
   "codemirror_mode": {
    "name": "ipython",
    "version": 3
   },
   "file_extension": ".py",
   "mimetype": "text/x-python",
   "name": "python",
   "nbconvert_exporter": "python",
   "pygments_lexer": "ipython3",
   "version": "3.12.0"
  }
 },
 "nbformat": 4,
 "nbformat_minor": 5
}
