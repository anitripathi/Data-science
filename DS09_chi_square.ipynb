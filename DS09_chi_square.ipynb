{
 "cells": [
  {
   "cell_type": "code",
   "execution_count": 10,
   "id": "64747ff0-0ecd-489e-83cf-224d2d816284",
   "metadata": {},
   "outputs": [
    {
     "data": {
      "text/plain": [
       "5.1000000000000005"
      ]
     },
     "execution_count": 10,
     "metadata": {},
     "output_type": "execute_result"
    }
   ],
   "source": [
    "import numpy as np\n",
    "\n",
    "ob = np.array([22,17,20,26,22,13])\n",
    "ex = np.array([20,20,20,20,20,20])\n",
    "\n",
    "dif = ob - ex\n",
    "squa=np.square(dif)\n",
    "chi_cal=np.sum(squa/ex)   #formula\n",
    "\n",
    "chi_cal\n",
    "\n",
    "\n",
    "\n",
    "\n",
    "\n",
    "\n"
   ]
  },
  {
   "cell_type": "code",
   "execution_count": null,
   "id": "effa7fb6-8356-45ea-97bd-5614332119b4",
   "metadata": {},
   "outputs": [],
   "source": []
  }
 ],
 "metadata": {
  "kernelspec": {
   "display_name": "Python 3 (ipykernel)",
   "language": "python",
   "name": "python3"
  },
  "language_info": {
   "codemirror_mode": {
    "name": "ipython",
    "version": 3
   },
   "file_extension": ".py",
   "mimetype": "text/x-python",
   "name": "python",
   "nbconvert_exporter": "python",
   "pygments_lexer": "ipython3",
   "version": "3.12.0"
  }
 },
 "nbformat": 4,
 "nbformat_minor": 5
}
