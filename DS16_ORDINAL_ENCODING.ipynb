{
 "cells": [
  {
   "cell_type": "code",
   "execution_count": 2,
   "id": "eedf170f-a3b5-45f2-bba2-5e624b8663d1",
   "metadata": {},
   "outputs": [
    {
     "name": "stdout",
     "output_type": "stream",
     "text": [
      "     Size  ENCODED\n",
      "0   Small      0.0\n",
      "1  Medium      1.0\n",
      "2   Large      2.0\n",
      "3  Medium      1.0\n",
      "4   Small      0.0\n",
      "5   Large      2.0\n"
     ]
    }
   ],
   "source": [
    "import pandas as pd\n",
    "from sklearn.preprocessing import OrdinalEncoder\n",
    "\n",
    "data = pd.DataFrame({'Size': ['Small', 'Medium', 'Large', 'Medium', 'Small', 'Large']})\n",
    "\n",
    "encoder = OrdinalEncoder(categories=[['Small', 'Medium', 'Large']])  # Define order\n",
    "\n",
    "# Apply Ordinal Encoding\n",
    "data['ENCODED'] = encoder.fit_transform(data[['Size']])\n",
    "\n",
    "print(data)\n"
   ]
  },
  {
   "cell_type": "code",
   "execution_count": null,
   "id": "28e1f4c7-3e1a-4301-9279-45528d879cb8",
   "metadata": {},
   "outputs": [],
   "source": []
  },
  {
   "cell_type": "code",
   "execution_count": null,
   "id": "81ae7e04-5c3f-4bb3-aecb-6d79a9825e4a",
   "metadata": {},
   "outputs": [],
   "source": []
  },
  {
   "cell_type": "code",
   "execution_count": 12,
   "id": "09f7f778-ad6f-4445-ae9c-93320e251f45",
   "metadata": {},
   "outputs": [
    {
     "name": "stdout",
     "output_type": "stream",
     "text": [
      "     Size  Encoded_map  ENCODED\n",
      "0   Small            0      0.0\n",
      "1  Medium          100      1.0\n",
      "2   Large          200      2.0\n",
      "3  Medium          100      1.0\n",
      "4   Small            0      0.0\n",
      "5   Large          200      2.0\n"
     ]
    }
   ],
   "source": [
    "# METHOD 2 FOR ORDINAL ENCODING ( MAP FUNCTION )\n",
    "\n",
    "data = pd.DataFrame({'Size': ['Small', 'Medium', 'Large', 'Medium', 'Small', 'Large']})\n",
    "\n",
    "# Define Ordinal Encoding Mapping\n",
    "size_mapping = {'Small': 0, 'Medium': 1, 'Large': 2}    # we can assign number by our own i.e we can assign medium-100 and large-200\n",
    "\n",
    "# Apply the mapping using .apply()\n",
    "data['Encoded_map'] = data['Size'].map(size_mapping)\n",
    "data['ENCODED'] = encoder.fit_transform(data[['Size']])     # compare it with method-1 encoding method\n",
    "\n",
    "print(data)\n"
   ]
  },
  {
   "cell_type": "code",
   "execution_count": null,
   "id": "51cead40-de2a-4cdb-baaf-098b509a35fb",
   "metadata": {},
   "outputs": [],
   "source": []
  },
  {
   "cell_type": "code",
   "execution_count": null,
   "id": "3c1aa247-6b1b-4e9a-b6be-724d1ff5091e",
   "metadata": {},
   "outputs": [],
   "source": []
  }
 ],
 "metadata": {
  "kernelspec": {
   "display_name": "Python 3 (ipykernel)",
   "language": "python",
   "name": "python3"
  },
  "language_info": {
   "codemirror_mode": {
    "name": "ipython",
    "version": 3
   },
   "file_extension": ".py",
   "mimetype": "text/x-python",
   "name": "python",
   "nbconvert_exporter": "python",
   "pygments_lexer": "ipython3",
   "version": "3.12.0"
  }
 },
 "nbformat": 4,
 "nbformat_minor": 5
}
