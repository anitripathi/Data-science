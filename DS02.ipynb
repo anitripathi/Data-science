{
 "cells": [
  {
   "cell_type": "code",
   "execution_count": 2,
   "id": "eedf0205-0914-4bf4-a115-9c76a91643ff",
   "metadata": {},
   "outputs": [
    {
     "name": "stdout",
     "output_type": "stream",
     "text": [
      "   PassengerId  Survived  Pclass  \\\n",
      "0            1         0       3   \n",
      "1            2         1       1   \n",
      "2            3         1       3   \n",
      "3            4         1       1   \n",
      "4            5         0       3   \n",
      "\n",
      "                                                Name     Sex   Age  SibSp  \\\n",
      "0                            Braund, Mr. Owen Harris    male  22.0      1   \n",
      "1  Cumings, Mrs. John Bradley (Florence Briggs Th...  female  38.0      1   \n",
      "2                             Heikkinen, Miss. Laina  female  26.0      0   \n",
      "3       Futrelle, Mrs. Jacques Heath (Lily May Peel)  female  35.0      1   \n",
      "4                           Allen, Mr. William Henry    male  35.0      0   \n",
      "\n",
      "   Parch            Ticket     Fare Cabin Embarked  \n",
      "0      0         A/5 21171   7.2500   NaN        S  \n",
      "1      0          PC 17599  71.2833   C85        C  \n",
      "2      0  STON/O2. 3101282   7.9250   NaN        S  \n",
      "3      0            113803  53.1000  C123        S  \n",
      "4      0            373450   8.0500   NaN        S  \n"
     ]
    }
   ],
   "source": [
    "import pandas as pd\n",
    "import numpy as np\n",
    "import matplotlib.pyplot as plt\n",
    "import seaborn as sns\n",
    "\n",
    "df = pd.read_csv(\"titanic.csv\")\n",
    "print(df.head(5))\n"
   ]
  },
  {
   "cell_type": "code",
   "execution_count": 8,
   "id": "4bd013a7-0b52-4dca-adaa-13ba2e351de6",
   "metadata": {},
   "outputs": [
    {
     "name": "stdout",
     "output_type": "stream",
     "text": [
      "79.58\n"
     ]
    }
   ],
   "source": [
    "min_r=df[\"Age\"].min()\n",
    "max_r=df[\"Age\"].max()\n",
    "range = max_r-min_r\n",
    "print(range)"
   ]
  },
  {
   "cell_type": "code",
   "execution_count": 9,
   "id": "1b568850-0d26-4e48-bfa4-57af14330a8c",
   "metadata": {},
   "outputs": [
    {
     "data": {
      "text/plain": [
       "(0.42, 80.0)"
      ]
     },
     "execution_count": 9,
     "metadata": {},
     "output_type": "execute_result"
    }
   ],
   "source": [
    "min_r,max_r"
   ]
  },
  {
   "cell_type": "code",
   "execution_count": 9,
   "id": "16b8065b-ec91-4096-850a-c5d58019ef88",
   "metadata": {},
   "outputs": [
    {
     "name": "stdout",
     "output_type": "stream",
     "text": [
      "MAD using Pandas: 18.38888888888889\n",
      "MAD using NumPy: 18.38888888888889\n"
     ]
    }
   ],
   "source": [
    "import numpy as np\n",
    "import pandas as pd\n",
    "\n",
    "sec_a = np.array([75, 65, 73, 6, 72, 76])\n",
    "df = pd.Series(sec_a)  # Creating Pandas Series\n",
    "\n",
    "means = np.mean(sec_a)  # Compute mean\n",
    "mad2 = np.mean(np.abs(sec_a - means))  # Using NumPy\n",
    "\n",
    "mad1 = df.sub(df.mean()).abs().mean()  # Manually compute MAD in Pandas\n",
    "\n",
    "print(\"MAD using Pandas:\", mad1)\n",
    "print(\"MAD using NumPy:\", mad2)\n"
   ]
  },
  {
   "cell_type": "code",
   "execution_count": 11,
   "id": "901c4d32-aaae-4002-9568-4c654533a165",
   "metadata": {},
   "outputs": [
    {
     "name": "stdout",
     "output_type": "stream",
     "text": [
      "24.922658142519406\n",
      "621.1388888888889\n"
     ]
    }
   ],
   "source": [
    "standard_deviation = np.std(sec_a)\n",
    "print(standard_deviation)\n",
    "\n",
    "variance = np.var(sec_a)\n",
    "print(variance)"
   ]
  },
  {
   "cell_type": "code",
   "execution_count": 12,
   "id": "10c40dab-953c-4032-a822-32755b102b09",
   "metadata": {},
   "outputs": [
    {
     "data": {
      "text/plain": [
       "count     6.000000\n",
       "mean     61.166667\n",
       "std      27.301404\n",
       "min       6.000000\n",
       "25%      66.750000\n",
       "50%      72.500000\n",
       "75%      74.500000\n",
       "max      76.000000\n",
       "dtype: float64"
      ]
     },
     "execution_count": 12,
     "metadata": {},
     "output_type": "execute_result"
    }
   ],
   "source": [
    "df.describe()"
   ]
  },
  {
   "cell_type": "code",
   "execution_count": 7,
   "id": "78e59b86-3904-492b-a159-40cbf04552e5",
   "metadata": {},
   "outputs": [
    {
     "data": {
      "image/png": "[encoded data removed]",
      "text/plain": [
       "<Figure size 640x480 with 1 Axes>"
      ]
     },
     "metadata": {},
     "output_type": "display_data"
    }
   ],
   "source": [
    "import seaborn as sns\n",
    "import matplotlib.pyplot as plt\n",
    "import pandas as pd\n",
    "df = pd.read_csv(\"titanic.csv\")\n",
    "sns.boxplot(x='Age',data = df)\n",
    "plt.show()"
   ]
  },
  {
   "cell_type": "code",
   "execution_count": null,
   "id": "541b14aa-46b2-49bd-8ef5-aa47f6300033",
   "metadata": {},
   "outputs": [],
   "source": []
  },
  {
   "cell_type": "code",
   "execution_count": null,
   "id": "839c7827-c753-43ff-aac5-7d216a5413f0",
   "metadata": {},
   "outputs": [],
   "source": []
  }
 ],
 "metadata": {
  "kernelspec": {
   "display_name": "Python 3 (ipykernel)",
   "language": "python",
   "name": "python3"
  },
  "language_info": {
   "codemirror_mode": {
    "name": "ipython",
    "version": 3
   },
   "file_extension": ".py",
   "mimetype": "text/x-python",
   "name": "python",
   "nbconvert_exporter": "python",
   "pygments_lexer": "ipython3",
   "version": "3.12.0"
  }
 },
 "nbformat": 4,
 "nbformat_minor": 5
}
