{
 "cells": [
  {
   "cell_type": "code",
   "execution_count": 3,
   "id": "fe8a5d4f-daa6-43d2-8082-d4e47cee48e0",
   "metadata": {},
   "outputs": [
    {
     "data": {
      "text/plain": [
       "1.6448536269514722"
      ]
     },
     "execution_count": 3,
     "metadata": {},
     "output_type": "execute_result"
    }
   ],
   "source": [
    "#Z -TEST \n",
    "\n",
    "import scipy.stats as st   # to find value of alpha through Z-TEST from table\n",
    "import numpy as np\n",
    "st.norm.ppf(0.95)"
   ]
  },
  {
   "cell_type": "code",
   "execution_count": 7,
   "id": "a9518160-5013-47dc-a423-8c82e2e4eb1a",
   "metadata": {},
   "outputs": [
    {
     "data": {
      "text/plain": [
       "3.5999999999999996"
      ]
     },
     "execution_count": 7,
     "metadata": {},
     "output_type": "execute_result"
    }
   ],
   "source": [
    "s_x = 90   #sample mean\n",
    "p_u = 82   #population mean\n",
    "p_std = 20  #population standard deviation\n",
    "n = 81   #sample mean\n",
    "ap = 0.05  #alpha value\n",
    "z_cal = (s_x - p_u)/(p_std/np.sqrt(n))   #z-test formula\n",
    "z_cal\n"
   ]
  },
  {
   "cell_type": "code",
   "execution_count": 8,
   "id": "58db1fc9-f6c6-495a-abd9-fd7eeebfefd3",
   "metadata": {},
   "outputs": [
    {
     "data": {
      "text/plain": [
       "1.6448536269514722"
      ]
     },
     "execution_count": 8,
     "metadata": {},
     "output_type": "execute_result"
    }
   ],
   "source": [
    "z_table = st.norm.ppf(1-ap)    #z-test value from table\n",
    "z_table"
   ]
  },
  {
   "cell_type": "code",
   "execution_count": 9,
   "id": "438432c5-ff1e-4729-88bc-32695c90ce50",
   "metadata": {},
   "outputs": [
    {
     "name": "stdout",
     "output_type": "stream",
     "text": [
      "Ha is right\n"
     ]
    }
   ],
   "source": [
    "if z_table < z_cal:\n",
    "    print(\"Ha is right\")\n",
    "else:\n",
    "    print(\"Ho is right\")"
   ]
  },
  {
   "cell_type": "code",
   "execution_count": null,
   "id": "92975671-b85f-40cf-b780-834247b00f43",
   "metadata": {},
   "outputs": [],
   "source": []
  },
  {
   "cell_type": "code",
   "execution_count": null,
   "id": "0dcf3d44-4602-41dc-ab3b-a4c188ab7bfd",
   "metadata": {},
   "outputs": [],
   "source": []
  },
  {
   "cell_type": "code",
   "execution_count": null,
   "id": "c9da13f6-0959-4271-9c3a-d3efcd80ce1e",
   "metadata": {},
   "outputs": [],
   "source": []
  }
 ],
 "metadata": {
  "kernelspec": {
   "display_name": "Python 3 (ipykernel)",
   "language": "python",
   "name": "python3"
  },
  "language_info": {
   "codemirror_mode": {
    "name": "ipython",
    "version": 3
   },
   "file_extension": ".py",
   "mimetype": "text/x-python",
   "name": "python",
   "nbconvert_exporter": "python",
   "pygments_lexer": "ipython3",
   "version": "3.12.0"
  }
 },
 "nbformat": 4,
 "nbformat_minor": 5
}
